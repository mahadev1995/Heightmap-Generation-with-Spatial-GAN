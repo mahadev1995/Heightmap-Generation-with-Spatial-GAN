{
 "cells": [
  {
   "cell_type": "code",
   "execution_count": 1,
   "id": "c31e9817",
   "metadata": {},
   "outputs": [],
   "source": [
    "import glob\n",
    "import matplotlib.pyplot as plt\n",
    "import numpy as np\n",
    "import cv2\n",
    "import os\n",
    "import shutil"
   ]
  },
  {
   "cell_type": "code",
   "execution_count": 2,
   "id": "b72bf4fb",
   "metadata": {},
   "outputs": [
    {
     "data": {
      "text/plain": [
       "['./delete_type/5.png',\n",
       " './delete_type/3.png',\n",
       " './delete_type/6.png',\n",
       " './delete_type/4.png',\n",
       " './delete_type/1.png',\n",
       " './delete_type/2.png']"
      ]
     },
     "execution_count": 2,
     "metadata": {},
     "output_type": "execute_result"
    }
   ],
   "source": [
    "delete_image_category = glob.glob('./delete_type/*.png')\n",
    "delete_image_category"
   ]
  },
  {
   "cell_type": "code",
   "execution_count": 5,
   "id": "77d00003",
   "metadata": {},
   "outputs": [
    {
     "data": {
      "text/plain": [
       "101264"
      ]
     },
     "execution_count": 5,
     "metadata": {},
     "output_type": "execute_result"
    }
   ],
   "source": [
    "path = './testing_dataset/*.png'\n"
   ]
  },
  {
   "cell_type": "code",
   "execution_count": 6,
   "id": "dd85309c",
   "metadata": {},
   "outputs": [
    {
     "name": "stdout",
     "output_type": "stream",
     "text": [
      "101264\n",
      "101246\n",
      "101246\n",
      "101239\n",
      "101239\n",
      "95552\n",
      "95552\n"
     ]
    }
   ],
   "source": [
    "for i in delete_image_category:\n",
    "    target_image = plt.imread(i)\n",
    "    target_dataset = glob.glob(path)\n",
    "    print(len(target_dataset))\n",
    "    for img in target_dataset:\n",
    "        image = plt.imread(img)\n",
    "        if (image == target_image).all():\n",
    "            os.remove(img)\n",
    "            \n",
    "print(len(target_dataset))"
   ]
  },
  {
   "cell_type": "code",
   "execution_count": 116,
   "id": "17075221",
   "metadata": {},
   "outputs": [],
   "source": [
    "destination = './training_dataset/'\n",
    "for i in range(0, 30):\n",
    "    path = './64px-raster/' + str(i) + '/*.png'\n",
    "    after_cleaning = glob.glob(path)\n",
    "    for img in after_cleaning:\n",
    "        file_name = os.path.basename(img)\n",
    "        shutil.move(img,  destination + file_name)\n",
    "    "
   ]
  },
  {
   "cell_type": "code",
   "execution_count": 119,
   "id": "d69f9f1e",
   "metadata": {},
   "outputs": [
    {
     "data": {
      "text/plain": [
       "139865"
      ]
     },
     "execution_count": 119,
     "metadata": {},
     "output_type": "execute_result"
    }
   ],
   "source": [
    "files = glob.glob(destination + '*.png')\n",
    "len(files)"
   ]
  },
  {
   "cell_type": "code",
   "execution_count": 118,
   "id": "247925db",
   "metadata": {},
   "outputs": [
    {
     "data": {
      "text/plain": [
       "['./training_dataset/']"
      ]
     },
     "execution_count": 118,
     "metadata": {},
     "output_type": "execute_result"
    }
   ],
   "source": [
    "files"
   ]
  },
  {
   "cell_type": "code",
   "execution_count": null,
   "id": "57049a8c",
   "metadata": {},
   "outputs": [],
   "source": [
    "139865/6"
   ]
  }
 ],
 "metadata": {
  "kernelspec": {
   "display_name": "Python 3",
   "language": "python",
   "name": "python3"
  },
  "language_info": {
   "codemirror_mode": {
    "name": "ipython",
    "version": 3
   },
   "file_extension": ".py",
   "mimetype": "text/x-python",
   "name": "python",
   "nbconvert_exporter": "python",
   "pygments_lexer": "ipython3",
   "version": "3.9.5"
  }
 },
 "nbformat": 4,
 "nbformat_minor": 5
}
